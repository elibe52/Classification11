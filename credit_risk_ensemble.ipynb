{
  "cells": [
    {
      "cell_type": "markdown",
      "metadata": {
        "id": "x-jqk_6kYikK"
      },
      "source": [
        "# Ensemble Learning\n",
        "\n",
        "## Initial Imports"
      ]
    },
    {
      "cell_type": "code",
      "execution_count": 1,
      "metadata": {
        "id": "KWME-jQeYikP"
      },
      "outputs": [],
      "source": [
        "import warnings\n",
        "warnings.filterwarnings('ignore')"
      ]
    },
    {
      "cell_type": "code",
      "source": [
        "#!pip uninstall scikit-learn -y\n",
        "\n",
        "#!pip install -U scikit-learn==0.24.1\n"
      ],
      "metadata": {
        "id": "mz_JDubn2GZt"
      },
      "execution_count": 2,
      "outputs": []
    },
    {
      "cell_type": "code",
      "execution_count": 3,
      "metadata": {
        "id": "sXQ3zS29YikS"
      },
      "outputs": [],
      "source": [
        "import numpy as np\n",
        "import pandas as pd\n",
        "from pathlib import Path\n",
        "from collections import Counter"
      ]
    },
    {
      "cell_type": "code",
      "execution_count": 4,
      "metadata": {
        "id": "RiPChvHcYikS"
      },
      "outputs": [],
      "source": [
        "from sklearn.model_selection import train_test_split\n",
        "from sklearn.preprocessing import StandardScaler\n",
        "from sklearn.metrics import balanced_accuracy_score\n",
        "from sklearn.metrics import confusion_matrix\n",
        "from sklearn.ensemble import AdaBoostClassifier\n",
        "from imblearn.ensemble import BalancedRandomForestClassifier\n",
        "from imblearn.ensemble import EasyEnsembleClassifier\n",
        "from imblearn.metrics import classification_report_imbalanced"
      ]
    },
    {
      "cell_type": "markdown",
      "metadata": {
        "id": "e1ilIXUhYikT"
      },
      "source": [
        "## Read the CSV and Perform Basic Data Cleaning"
      ]
    },
    {
      "cell_type": "code",
      "source": [
        "from google.colab import drive\n",
        "drive.mount('/content/drive')"
      ],
      "metadata": {
        "colab": {
          "base_uri": "https://localhost:8080/"
        },
        "id": "HMm2Kej_YpTs",
        "outputId": "ef7ed453-54d1-48aa-8a9a-ae35ccd7e7b2"
      },
      "execution_count": 5,
      "outputs": [
        {
          "output_type": "stream",
          "name": "stdout",
          "text": [
            "Drive already mounted at /content/drive; to attempt to forcibly remount, call drive.mount(\"/content/drive\", force_remount=True).\n"
          ]
        }
      ]
    },
    {
      "cell_type": "code",
      "execution_count": 6,
      "metadata": {
        "colab": {
          "base_uri": "https://localhost:8080/"
        },
        "id": "8QhAkTvOYikU",
        "outputId": "92bb08e0-145e-492d-a16b-49258a8ec513"
      },
      "outputs": [
        {
          "output_type": "stream",
          "name": "stdout",
          "text": [
            "   loan_amnt  int_rate  ...  hardship_flag debt_settlement_flag\n",
            "0    10500.0    0.1719  ...              N                    N\n",
            "1    25000.0    0.2000  ...              N                    N\n",
            "2    20000.0    0.2000  ...              N                    N\n",
            "3    10000.0    0.1640  ...              N                    N\n",
            "4    22000.0    0.1474  ...              N                    N\n",
            "\n",
            "[5 rows x 86 columns]\n",
            "(68817, 86)\n"
          ]
        }
      ],
      "source": [
        "# Load the data\n",
        "file_path = Path('/content/drive/MyDrive/11/Resources/LoanStats_2019Q1.csv')\n",
        "df = pd.read_csv(file_path)\n",
        "\n",
        "# Preview the data\n",
        "print(df.head())\n",
        "print(df.shape)\n"
      ]
    },
    {
      "cell_type": "code",
      "source": [
        "lis1=[]\n",
        "for i in df.columns:\n",
        "  if(df[i].dtype=='object' and i!='loan_status'):\n",
        "    lis1.append(i)\n",
        "\n",
        "print(lis1)\n"
      ],
      "metadata": {
        "colab": {
          "base_uri": "https://localhost:8080/"
        },
        "id": "_bdOtyDAbg_O",
        "outputId": "315cc825-12f8-465f-ff15-5959ff547de3"
      },
      "execution_count": 7,
      "outputs": [
        {
          "output_type": "stream",
          "name": "stdout",
          "text": [
            "['home_ownership', 'verification_status', 'issue_d', 'pymnt_plan', 'initial_list_status', 'next_pymnt_d', 'application_type', 'hardship_flag', 'debt_settlement_flag']\n"
          ]
        }
      ]
    },
    {
      "cell_type": "markdown",
      "metadata": {
        "id": "wP8yvLhJYikU"
      },
      "source": [
        "## Split the Data into Training and Testing"
      ]
    },
    {
      "cell_type": "code",
      "execution_count": 8,
      "metadata": {
        "id": "EPgCq4AKYikV"
      },
      "outputs": [],
      "source": [
        "# Create our features\n",
        "X = df.drop(columns=\"loan_status\")\n",
        "X = pd.get_dummies(X,columns=lis1)\n",
        "\n",
        "# Create our target\n",
        "y = df['loan_status'].to_frame()\n"
      ]
    },
    {
      "cell_type": "code",
      "execution_count": 9,
      "metadata": {
        "colab": {
          "base_uri": "https://localhost:8080/",
          "height": 423
        },
        "id": "fd_lSQV4YikW",
        "outputId": "4b7d9908-fd2e-4506-d062-555075e0a8e6"
      },
      "outputs": [
        {
          "output_type": "execute_result",
          "data": {
            "text/html": [
              "\n",
              "  <div id=\"df-bd055073-361d-4f73-931d-56bd37f43897\">\n",
              "    <div class=\"colab-df-container\">\n",
              "      <div>\n",
              "<style scoped>\n",
              "    .dataframe tbody tr th:only-of-type {\n",
              "        vertical-align: middle;\n",
              "    }\n",
              "\n",
              "    .dataframe tbody tr th {\n",
              "        vertical-align: top;\n",
              "    }\n",
              "\n",
              "    .dataframe thead th {\n",
              "        text-align: right;\n",
              "    }\n",
              "</style>\n",
              "<table border=\"1\" class=\"dataframe\">\n",
              "  <thead>\n",
              "    <tr style=\"text-align: right;\">\n",
              "      <th></th>\n",
              "      <th>count</th>\n",
              "      <th>mean</th>\n",
              "      <th>std</th>\n",
              "      <th>min</th>\n",
              "      <th>25%</th>\n",
              "      <th>50%</th>\n",
              "      <th>75%</th>\n",
              "      <th>max</th>\n",
              "    </tr>\n",
              "  </thead>\n",
              "  <tbody>\n",
              "    <tr>\n",
              "      <th>loan_amnt</th>\n",
              "      <td>68817.0</td>\n",
              "      <td>16677.594562</td>\n",
              "      <td>10277.348590</td>\n",
              "      <td>1000.00</td>\n",
              "      <td>9000.0000</td>\n",
              "      <td>15000.000</td>\n",
              "      <td>24000.0000</td>\n",
              "      <td>4.000000e+04</td>\n",
              "    </tr>\n",
              "    <tr>\n",
              "      <th>int_rate</th>\n",
              "      <td>68817.0</td>\n",
              "      <td>0.127718</td>\n",
              "      <td>0.048130</td>\n",
              "      <td>0.06</td>\n",
              "      <td>0.0881</td>\n",
              "      <td>0.118</td>\n",
              "      <td>0.1557</td>\n",
              "      <td>3.084000e-01</td>\n",
              "    </tr>\n",
              "    <tr>\n",
              "      <th>installment</th>\n",
              "      <td>68817.0</td>\n",
              "      <td>480.652863</td>\n",
              "      <td>288.062432</td>\n",
              "      <td>30.89</td>\n",
              "      <td>265.7300</td>\n",
              "      <td>404.560</td>\n",
              "      <td>648.1000</td>\n",
              "      <td>1.676230e+03</td>\n",
              "    </tr>\n",
              "    <tr>\n",
              "      <th>annual_inc</th>\n",
              "      <td>68817.0</td>\n",
              "      <td>88213.705210</td>\n",
              "      <td>115579.958439</td>\n",
              "      <td>40.00</td>\n",
              "      <td>50000.0000</td>\n",
              "      <td>73000.000</td>\n",
              "      <td>104000.0000</td>\n",
              "      <td>8.797500e+06</td>\n",
              "    </tr>\n",
              "    <tr>\n",
              "      <th>dti</th>\n",
              "      <td>68817.0</td>\n",
              "      <td>21.778153</td>\n",
              "      <td>20.199244</td>\n",
              "      <td>0.00</td>\n",
              "      <td>13.8900</td>\n",
              "      <td>19.760</td>\n",
              "      <td>26.6600</td>\n",
              "      <td>9.990000e+02</td>\n",
              "    </tr>\n",
              "    <tr>\n",
              "      <th>...</th>\n",
              "      <td>...</td>\n",
              "      <td>...</td>\n",
              "      <td>...</td>\n",
              "      <td>...</td>\n",
              "      <td>...</td>\n",
              "      <td>...</td>\n",
              "      <td>...</td>\n",
              "      <td>...</td>\n",
              "    </tr>\n",
              "    <tr>\n",
              "      <th>next_pymnt_d_May-2019</th>\n",
              "      <td>68817.0</td>\n",
              "      <td>0.616839</td>\n",
              "      <td>0.486161</td>\n",
              "      <td>0.00</td>\n",
              "      <td>0.0000</td>\n",
              "      <td>1.000</td>\n",
              "      <td>1.0000</td>\n",
              "      <td>1.000000e+00</td>\n",
              "    </tr>\n",
              "    <tr>\n",
              "      <th>application_type_Individual</th>\n",
              "      <td>68817.0</td>\n",
              "      <td>0.860340</td>\n",
              "      <td>0.346637</td>\n",
              "      <td>0.00</td>\n",
              "      <td>1.0000</td>\n",
              "      <td>1.000</td>\n",
              "      <td>1.0000</td>\n",
              "      <td>1.000000e+00</td>\n",
              "    </tr>\n",
              "    <tr>\n",
              "      <th>application_type_Joint App</th>\n",
              "      <td>68817.0</td>\n",
              "      <td>0.139660</td>\n",
              "      <td>0.346637</td>\n",
              "      <td>0.00</td>\n",
              "      <td>0.0000</td>\n",
              "      <td>0.000</td>\n",
              "      <td>0.0000</td>\n",
              "      <td>1.000000e+00</td>\n",
              "    </tr>\n",
              "    <tr>\n",
              "      <th>hardship_flag_N</th>\n",
              "      <td>68817.0</td>\n",
              "      <td>1.000000</td>\n",
              "      <td>0.000000</td>\n",
              "      <td>1.00</td>\n",
              "      <td>1.0000</td>\n",
              "      <td>1.000</td>\n",
              "      <td>1.0000</td>\n",
              "      <td>1.000000e+00</td>\n",
              "    </tr>\n",
              "    <tr>\n",
              "      <th>debt_settlement_flag_N</th>\n",
              "      <td>68817.0</td>\n",
              "      <td>1.000000</td>\n",
              "      <td>0.000000</td>\n",
              "      <td>1.00</td>\n",
              "      <td>1.0000</td>\n",
              "      <td>1.000</td>\n",
              "      <td>1.0000</td>\n",
              "      <td>1.000000e+00</td>\n",
              "    </tr>\n",
              "  </tbody>\n",
              "</table>\n",
              "<p>95 rows × 8 columns</p>\n",
              "</div>\n",
              "      <button class=\"colab-df-convert\" onclick=\"convertToInteractive('df-bd055073-361d-4f73-931d-56bd37f43897')\"\n",
              "              title=\"Convert this dataframe to an interactive table.\"\n",
              "              style=\"display:none;\">\n",
              "        \n",
              "  <svg xmlns=\"http://www.w3.org/2000/svg\" height=\"24px\"viewBox=\"0 0 24 24\"\n",
              "       width=\"24px\">\n",
              "    <path d=\"M0 0h24v24H0V0z\" fill=\"none\"/>\n",
              "    <path d=\"M18.56 5.44l.94 2.06.94-2.06 2.06-.94-2.06-.94-.94-2.06-.94 2.06-2.06.94zm-11 1L8.5 8.5l.94-2.06 2.06-.94-2.06-.94L8.5 2.5l-.94 2.06-2.06.94zm10 10l.94 2.06.94-2.06 2.06-.94-2.06-.94-.94-2.06-.94 2.06-2.06.94z\"/><path d=\"M17.41 7.96l-1.37-1.37c-.4-.4-.92-.59-1.43-.59-.52 0-1.04.2-1.43.59L10.3 9.45l-7.72 7.72c-.78.78-.78 2.05 0 2.83L4 21.41c.39.39.9.59 1.41.59.51 0 1.02-.2 1.41-.59l7.78-7.78 2.81-2.81c.8-.78.8-2.07 0-2.86zM5.41 20L4 18.59l7.72-7.72 1.47 1.35L5.41 20z\"/>\n",
              "  </svg>\n",
              "      </button>\n",
              "      \n",
              "  <style>\n",
              "    .colab-df-container {\n",
              "      display:flex;\n",
              "      flex-wrap:wrap;\n",
              "      gap: 12px;\n",
              "    }\n",
              "\n",
              "    .colab-df-convert {\n",
              "      background-color: #E8F0FE;\n",
              "      border: none;\n",
              "      border-radius: 50%;\n",
              "      cursor: pointer;\n",
              "      display: none;\n",
              "      fill: #1967D2;\n",
              "      height: 32px;\n",
              "      padding: 0 0 0 0;\n",
              "      width: 32px;\n",
              "    }\n",
              "\n",
              "    .colab-df-convert:hover {\n",
              "      background-color: #E2EBFA;\n",
              "      box-shadow: 0px 1px 2px rgba(60, 64, 67, 0.3), 0px 1px 3px 1px rgba(60, 64, 67, 0.15);\n",
              "      fill: #174EA6;\n",
              "    }\n",
              "\n",
              "    [theme=dark] .colab-df-convert {\n",
              "      background-color: #3B4455;\n",
              "      fill: #D2E3FC;\n",
              "    }\n",
              "\n",
              "    [theme=dark] .colab-df-convert:hover {\n",
              "      background-color: #434B5C;\n",
              "      box-shadow: 0px 1px 3px 1px rgba(0, 0, 0, 0.15);\n",
              "      filter: drop-shadow(0px 1px 2px rgba(0, 0, 0, 0.3));\n",
              "      fill: #FFFFFF;\n",
              "    }\n",
              "  </style>\n",
              "\n",
              "      <script>\n",
              "        const buttonEl =\n",
              "          document.querySelector('#df-bd055073-361d-4f73-931d-56bd37f43897 button.colab-df-convert');\n",
              "        buttonEl.style.display =\n",
              "          google.colab.kernel.accessAllowed ? 'block' : 'none';\n",
              "\n",
              "        async function convertToInteractive(key) {\n",
              "          const element = document.querySelector('#df-bd055073-361d-4f73-931d-56bd37f43897');\n",
              "          const dataTable =\n",
              "            await google.colab.kernel.invokeFunction('convertToInteractive',\n",
              "                                                     [key], {});\n",
              "          if (!dataTable) return;\n",
              "\n",
              "          const docLinkHtml = 'Like what you see? Visit the ' +\n",
              "            '<a target=\"_blank\" href=https://colab.research.google.com/notebooks/data_table.ipynb>data table notebook</a>'\n",
              "            + ' to learn more about interactive tables.';\n",
              "          element.innerHTML = '';\n",
              "          dataTable['output_type'] = 'display_data';\n",
              "          await google.colab.output.renderOutput(dataTable, element);\n",
              "          const docLink = document.createElement('div');\n",
              "          docLink.innerHTML = docLinkHtml;\n",
              "          element.appendChild(docLink);\n",
              "        }\n",
              "      </script>\n",
              "    </div>\n",
              "  </div>\n",
              "  "
            ],
            "text/plain": [
              "                               count          mean  ...          75%           max\n",
              "loan_amnt                    68817.0  16677.594562  ...   24000.0000  4.000000e+04\n",
              "int_rate                     68817.0      0.127718  ...       0.1557  3.084000e-01\n",
              "installment                  68817.0    480.652863  ...     648.1000  1.676230e+03\n",
              "annual_inc                   68817.0  88213.705210  ...  104000.0000  8.797500e+06\n",
              "dti                          68817.0     21.778153  ...      26.6600  9.990000e+02\n",
              "...                              ...           ...  ...          ...           ...\n",
              "next_pymnt_d_May-2019        68817.0      0.616839  ...       1.0000  1.000000e+00\n",
              "application_type_Individual  68817.0      0.860340  ...       1.0000  1.000000e+00\n",
              "application_type_Joint App   68817.0      0.139660  ...       0.0000  1.000000e+00\n",
              "hardship_flag_N              68817.0      1.000000  ...       1.0000  1.000000e+00\n",
              "debt_settlement_flag_N       68817.0      1.000000  ...       1.0000  1.000000e+00\n",
              "\n",
              "[95 rows x 8 columns]"
            ]
          },
          "metadata": {},
          "execution_count": 9
        }
      ],
      "source": [
        "X.describe().T"
      ]
    },
    {
      "cell_type": "code",
      "execution_count": 10,
      "metadata": {
        "colab": {
          "base_uri": "https://localhost:8080/"
        },
        "id": "Wl7IB4zvYikX",
        "outputId": "46f37df5-7bc4-459f-aac5-f3aaa80ae11c"
      },
      "outputs": [
        {
          "output_type": "execute_result",
          "data": {
            "text/plain": [
              "low_risk     68470\n",
              "high_risk      347\n",
              "Name: loan_status, dtype: int64"
            ]
          },
          "metadata": {},
          "execution_count": 10
        }
      ],
      "source": [
        "y['loan_status'].value_counts()"
      ]
    },
    {
      "cell_type": "code",
      "execution_count": 11,
      "metadata": {
        "id": "MRvbyJgPYikX"
      },
      "outputs": [],
      "source": [
        "# Split the X and y into X_train, X_test, y_train, y_test\n",
        "# YOUR CODE HERE\n",
        "\n",
        "X_train, X_test, y_train, y_test = train_test_split(X, y, random_state=1)"
      ]
    },
    {
      "cell_type": "markdown",
      "metadata": {
        "id": "RQYgtG6HYikY"
      },
      "source": [
        "## Data Pre-Processing\n",
        "\n",
        "Scale the training and testing data using the `StandardScaler` from `sklearn`. Remember that when scaling the data, you only scale the features data (`X_train` and `X_testing`)."
      ]
    },
    {
      "cell_type": "code",
      "execution_count": 12,
      "metadata": {
        "id": "GpVd-sUuYikY"
      },
      "outputs": [],
      "source": [
        "# Create the StandardScaler instance\n",
        "# YOUR CODE HERE\n",
        "scalar =  StandardScaler()"
      ]
    },
    {
      "cell_type": "code",
      "execution_count": 13,
      "metadata": {
        "colab": {
          "base_uri": "https://localhost:8080/"
        },
        "id": "asl8DzvYYikY",
        "outputId": "fe89c406-04be-491b-dbb3-5044cc75168f"
      },
      "outputs": [
        {
          "output_type": "execute_result",
          "data": {
            "text/plain": [
              "StandardScaler()"
            ]
          },
          "metadata": {},
          "execution_count": 13
        }
      ],
      "source": [
        "# Fit the Standard Scaler with the training data\n",
        "# When fitting scaling functions, only train on the training dataset\n",
        "# YOUR CODE HERE\n",
        "\n",
        "scalar.fit(X_train)"
      ]
    },
    {
      "cell_type": "code",
      "execution_count": 14,
      "metadata": {
        "id": "jHJFh1xaYikZ"
      },
      "outputs": [],
      "source": [
        "# Scale the training and testing data\n",
        "# YOUR CODE HERE\n",
        "scaled_X_train = scalar.transform(X_train)\n",
        "scaled_X_test = scalar.transform(X_test)"
      ]
    },
    {
      "cell_type": "markdown",
      "metadata": {
        "id": "szmrYauuYikZ"
      },
      "source": [
        "## Ensemble Learners\n",
        "\n",
        "In this section, you will compare two ensemble algorithms to determine which algorithm results in the best performance. You will train a Balanced Random Forest Classifier and an Easy Ensemble classifier . For each algorithm, be sure to complete the folliowing steps:\n",
        "\n",
        "1. Train the model using the training data. \n",
        "2. Calculate the balanced accuracy score from sklearn.metrics.\n",
        "3. Display the confusion matrix from sklearn.metrics.\n",
        "4. Generate a classication report using the `imbalanced_classification_report` from imbalanced-learn.\n",
        "5. For the Balanced Random Forest Classifier only, print the feature importance sorted in descending order (most important feature to least important) along with the feature score\n",
        "\n",
        "Note: Use a random state of 1 for each algorithm to ensure consistency between tests"
      ]
    },
    {
      "cell_type": "markdown",
      "metadata": {
        "id": "Jl272Mk1Yika"
      },
      "source": [
        "### Balanced Random Forest Classifier"
      ]
    },
    {
      "cell_type": "code",
      "execution_count": 15,
      "metadata": {
        "id": "OwLR7Kx7Yika",
        "colab": {
          "base_uri": "https://localhost:8080/"
        },
        "outputId": "204ac188-a911-4d5f-804a-9fa2b3f2e520"
      },
      "outputs": [
        {
          "output_type": "execute_result",
          "data": {
            "text/plain": [
              "BalancedRandomForestClassifier(random_state=1)"
            ]
          },
          "metadata": {},
          "execution_count": 15
        }
      ],
      "source": [
        "# Resample the training data with the BalancedRandomForestClassifier\n",
        "# YOUR CODE HERE\n",
        "BRFClassifier = BalancedRandomForestClassifier(random_state =1)\n",
        "BRFClassifier.fit(X_train,y_train)"
      ]
    },
    {
      "cell_type": "code",
      "execution_count": 16,
      "metadata": {
        "id": "QfCa0qOgYika",
        "colab": {
          "base_uri": "https://localhost:8080/"
        },
        "outputId": "287994f9-487f-4c51-8d8f-b9ebc3a881d8"
      },
      "outputs": [
        {
          "output_type": "stream",
          "name": "stdout",
          "text": [
            "0.7885466545953005\n"
          ]
        }
      ],
      "source": [
        "# Calculated the balanced accuracy score\n",
        "# YOUR CODE HERE\n",
        "y_pred = BRFClassifier.predict(X_test)\n",
        "accuracyScore = balanced_accuracy_score(y_test,y_pred)\n",
        "print(accuracyScore)"
      ]
    },
    {
      "cell_type": "code",
      "execution_count": 17,
      "metadata": {
        "id": "BzHPxXafYikb",
        "colab": {
          "base_uri": "https://localhost:8080/"
        },
        "outputId": "471aa7fd-e2ab-496f-aff4-684ed023962f"
      },
      "outputs": [
        {
          "output_type": "execute_result",
          "data": {
            "text/plain": [
              "array([[   71,    30],\n",
              "       [ 2153, 14951]])"
            ]
          },
          "metadata": {},
          "execution_count": 17
        }
      ],
      "source": [
        "# Display the confusion matrix\n",
        "# YOUR CODE HERE\n",
        "confusion_matrix(y_test,y_pred)"
      ]
    },
    {
      "cell_type": "code",
      "execution_count": 18,
      "metadata": {
        "id": "c7RBm_wBYikb",
        "colab": {
          "base_uri": "https://localhost:8080/"
        },
        "outputId": "d4b7d1e8-ff4d-4c4d-e4d0-e82d17e4d44c"
      },
      "outputs": [
        {
          "output_type": "stream",
          "name": "stdout",
          "text": [
            "                   pre       rec       spe        f1       geo       iba       sup\n",
            "\n",
            "  high_risk       0.03      0.70      0.87      0.06      0.78      0.60       101\n",
            "   low_risk       1.00      0.87      0.70      0.93      0.78      0.62     17104\n",
            "\n",
            "avg / total       0.99      0.87      0.70      0.93      0.78      0.62     17205\n",
            "\n"
          ]
        }
      ],
      "source": [
        "# Print the imbalanced classification report\n",
        "# YOUR CODE HERE\n",
        "print(classification_report_imbalanced(y_test, y_pred))"
      ]
    },
    {
      "cell_type": "code",
      "execution_count": 19,
      "metadata": {
        "id": "5YBJAgkDYikb",
        "colab": {
          "base_uri": "https://localhost:8080/"
        },
        "outputId": "2a707790-59cf-4a8e-e149-44b4ea5e188e"
      },
      "outputs": [
        {
          "output_type": "stream",
          "name": "stdout",
          "text": [
            "5 most important features: ['total_rec_prncp', 'total_pymnt', 'total_pymnt_inv', 'total_rec_int', 'last_pymnt_amnt']\n"
          ]
        }
      ],
      "source": [
        "# List the features sorted in descending order by feature importance\n",
        "# YOUR CODE HERE\n",
        "important_features_dict = {}\n",
        "for idx, val in enumerate(BRFClassifier.feature_importances_):\n",
        "    column_name = X.columns[idx]\n",
        "    important_features_dict[column_name] = val\n",
        "\n",
        "important_features_list = sorted(important_features_dict,\n",
        "                                 key=important_features_dict.get,\n",
        "                                 reverse=True)\n",
        "print(f'5 most important features: {important_features_list[:5]}')"
      ]
    },
    {
      "cell_type": "markdown",
      "metadata": {
        "id": "_Sxw8tvLYikc"
      },
      "source": [
        "### Easy Ensemble Classifier"
      ]
    },
    {
      "cell_type": "code",
      "execution_count": 20,
      "metadata": {
        "id": "w5sOEMYHYikc"
      },
      "outputs": [],
      "source": [
        "# Train the Classifier\n",
        "# YOUR CODE HERE\n",
        "\n",
        "EEClassifier = EasyEnsembleClassifier(random_state=1)\n"
      ]
    },
    {
      "cell_type": "code",
      "source": [
        "EEClassifier.fit(X_train,y_train)"
      ],
      "metadata": {
        "colab": {
          "base_uri": "https://localhost:8080/"
        },
        "id": "GKkKQdhTzZJx",
        "outputId": "bf38aaba-1e7a-4afd-b0f3-1ac95be91ded"
      },
      "execution_count": 21,
      "outputs": [
        {
          "output_type": "execute_result",
          "data": {
            "text/plain": [
              "EasyEnsembleClassifier(random_state=1)"
            ]
          },
          "metadata": {},
          "execution_count": 21
        }
      ]
    },
    {
      "cell_type": "code",
      "execution_count": 22,
      "metadata": {
        "id": "5yB2beImYikc",
        "colab": {
          "base_uri": "https://localhost:8080/"
        },
        "outputId": "adec90ec-545f-40d3-c65e-8ac0b86c2e39"
      },
      "outputs": [
        {
          "output_type": "stream",
          "name": "stdout",
          "text": [
            "0.9154751595365336\n"
          ]
        }
      ],
      "source": [
        "# Calculated the balanced accuracy score\n",
        "# YOUR CODE HERE\n",
        "y_pred = EEClassifier.predict(X_test)\n",
        "accuracyScore = balanced_accuracy_score(y_test,y_pred)\n",
        "print(accuracyScore)"
      ]
    },
    {
      "cell_type": "code",
      "execution_count": 23,
      "metadata": {
        "id": "jj_sF0wZYikc",
        "colab": {
          "base_uri": "https://localhost:8080/"
        },
        "outputId": "b6cab946-2444-4684-8306-6ea133fcd19f"
      },
      "outputs": [
        {
          "output_type": "execute_result",
          "data": {
            "text/plain": [
              "array([[   94,     7],\n",
              "       [ 1706, 15398]])"
            ]
          },
          "metadata": {},
          "execution_count": 23
        }
      ],
      "source": [
        "# Display the confusion matrix\n",
        "# YOUR CODE HERE\n",
        "confusion_matrix(y_test,y_pred)"
      ]
    },
    {
      "cell_type": "code",
      "execution_count": 24,
      "metadata": {
        "id": "5vMuTylLYikd",
        "colab": {
          "base_uri": "https://localhost:8080/"
        },
        "outputId": "a4153c56-bf62-40de-cd6e-0c974824f743"
      },
      "outputs": [
        {
          "output_type": "stream",
          "name": "stdout",
          "text": [
            "                   pre       rec       spe        f1       geo       iba       sup\n",
            "\n",
            "  high_risk       0.05      0.93      0.90      0.10      0.92      0.84       101\n",
            "   low_risk       1.00      0.90      0.93      0.95      0.92      0.84     17104\n",
            "\n",
            "avg / total       0.99      0.90      0.93      0.94      0.92      0.84     17205\n",
            "\n"
          ]
        }
      ],
      "source": [
        "# Print the imbalanced classification report\n",
        "# YOUR CODE HERE\n",
        "print(classification_report_imbalanced(y_test, y_pred))"
      ]
    },
    {
      "cell_type": "markdown",
      "metadata": {
        "id": "RO5I1a6EYikd"
      },
      "source": [
        "### Final Questions\n",
        "\n",
        "1. Which model had the best balanced accuracy score?\n",
        "\n",
        "    With 91% Easy ensamble classifier has highest balanced accuracy score\n",
        "\n",
        "2. Which model had the best recall score?\n",
        "\n",
        "    With 87 and 90 both the models has similar accuracy scores with easy ensamble in lead\n",
        "\n",
        "3. Which model had the best geometric mean score?\n",
        "\n",
        "    Easy Ensemble has best geometric mean score\n",
        "\n",
        "4. What are the top three features?\n",
        "\n",
        "    5 most important features: ['total_rec_prncp', 'total_pymnt', 'total_pymnt_inv', 'total_rec_int', 'last_pymnt_amnt']"
      ]
    },
    {
      "cell_type": "code",
      "execution_count": 24,
      "metadata": {
        "id": "KO4ItUqbYikd"
      },
      "outputs": [],
      "source": [
        ""
      ]
    }
  ],
  "metadata": {
    "kernelspec": {
      "display_name": "Python [conda env:root] *",
      "language": "python",
      "name": "conda-root-py"
    },
    "language_info": {
      "codemirror_mode": {
        "name": "ipython",
        "version": 3
      },
      "file_extension": ".py",
      "mimetype": "text/x-python",
      "name": "python",
      "nbconvert_exporter": "python",
      "pygments_lexer": "ipython3",
      "version": "3.8.3"
    },
    "colab": {
      "name": "credit_risk_ensemble.ipynb",
      "provenance": [],
      "collapsed_sections": []
    }
  },
  "nbformat": 4,
  "nbformat_minor": 0
}