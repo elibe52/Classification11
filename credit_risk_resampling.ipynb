{
  "cells": [
    {
      "cell_type": "markdown",
      "metadata": {
        "id": "arIG5LBy7Ja6"
      },
      "source": [
        "# Credit Risk Resampling Techniques"
      ]
    },
    {
      "cell_type": "code",
      "execution_count": 1,
      "metadata": {
        "id": "ijoj3Rrf7Ja_"
      },
      "outputs": [],
      "source": [
        "import warnings\n",
        "warnings.filterwarnings('ignore')"
      ]
    },
    {
      "cell_type": "code",
      "execution_count": 2,
      "metadata": {
        "id": "gUFZDqyz7JbB"
      },
      "outputs": [],
      "source": [
        "import numpy as np\n",
        "import pandas as pd\n",
        "from pathlib import Path\n",
        "from collections import Counter\n",
        "from sklearn.model_selection import train_test_split"
      ]
    },
    {
      "cell_type": "markdown",
      "metadata": {
        "id": "wY9iKpRS7JbC"
      },
      "source": [
        "# Read the CSV into DataFrame"
      ]
    },
    {
      "cell_type": "code",
      "source": [
        "from google.colab import drive\n",
        "drive.mount('/content/drive')"
      ],
      "metadata": {
        "colab": {
          "base_uri": "https://localhost:8080/"
        },
        "id": "dwLA15Ny8anE",
        "outputId": "fff3a9e9-a4a0-4e24-e38f-1c73ed0c24d9"
      },
      "execution_count": 3,
      "outputs": [
        {
          "output_type": "stream",
          "name": "stdout",
          "text": [
            "Drive already mounted at /content/drive; to attempt to forcibly remount, call drive.mount(\"/content/drive\", force_remount=True).\n"
          ]
        }
      ]
    },
    {
      "cell_type": "code",
      "execution_count": 4,
      "metadata": {
        "colab": {
          "base_uri": "https://localhost:8080/",
          "height": 288
        },
        "id": "e8KObEEb7JbC",
        "outputId": "a4ca4edd-c852-447b-fc34-8e99b836b6c5"
      },
      "outputs": [
        {
          "output_type": "display_data",
          "data": {
            "text/html": [
              "\n",
              "  <div id=\"df-8bf2f3ae-7d95-48cc-bfa6-537f66e46ca3\">\n",
              "    <div class=\"colab-df-container\">\n",
              "      <div>\n",
              "<style scoped>\n",
              "    .dataframe tbody tr th:only-of-type {\n",
              "        vertical-align: middle;\n",
              "    }\n",
              "\n",
              "    .dataframe tbody tr th {\n",
              "        vertical-align: top;\n",
              "    }\n",
              "\n",
              "    .dataframe thead th {\n",
              "        text-align: right;\n",
              "    }\n",
              "</style>\n",
              "<table border=\"1\" class=\"dataframe\">\n",
              "  <thead>\n",
              "    <tr style=\"text-align: right;\">\n",
              "      <th></th>\n",
              "      <th>loan_size</th>\n",
              "      <th>interest_rate</th>\n",
              "      <th>homeowner</th>\n",
              "      <th>borrower_income</th>\n",
              "      <th>debt_to_income</th>\n",
              "      <th>num_of_accounts</th>\n",
              "      <th>derogatory_marks</th>\n",
              "      <th>total_debt</th>\n",
              "      <th>loan_status</th>\n",
              "    </tr>\n",
              "  </thead>\n",
              "  <tbody>\n",
              "    <tr>\n",
              "      <th>0</th>\n",
              "      <td>10700.0</td>\n",
              "      <td>7.672</td>\n",
              "      <td>own</td>\n",
              "      <td>52800</td>\n",
              "      <td>0.431818</td>\n",
              "      <td>5</td>\n",
              "      <td>1</td>\n",
              "      <td>22800</td>\n",
              "      <td>low_risk</td>\n",
              "    </tr>\n",
              "    <tr>\n",
              "      <th>1</th>\n",
              "      <td>8400.0</td>\n",
              "      <td>6.692</td>\n",
              "      <td>own</td>\n",
              "      <td>43600</td>\n",
              "      <td>0.311927</td>\n",
              "      <td>3</td>\n",
              "      <td>0</td>\n",
              "      <td>13600</td>\n",
              "      <td>low_risk</td>\n",
              "    </tr>\n",
              "    <tr>\n",
              "      <th>2</th>\n",
              "      <td>9000.0</td>\n",
              "      <td>6.963</td>\n",
              "      <td>rent</td>\n",
              "      <td>46100</td>\n",
              "      <td>0.349241</td>\n",
              "      <td>3</td>\n",
              "      <td>0</td>\n",
              "      <td>16100</td>\n",
              "      <td>low_risk</td>\n",
              "    </tr>\n",
              "    <tr>\n",
              "      <th>3</th>\n",
              "      <td>10700.0</td>\n",
              "      <td>7.664</td>\n",
              "      <td>own</td>\n",
              "      <td>52700</td>\n",
              "      <td>0.430740</td>\n",
              "      <td>5</td>\n",
              "      <td>1</td>\n",
              "      <td>22700</td>\n",
              "      <td>low_risk</td>\n",
              "    </tr>\n",
              "    <tr>\n",
              "      <th>4</th>\n",
              "      <td>10800.0</td>\n",
              "      <td>7.698</td>\n",
              "      <td>mortgage</td>\n",
              "      <td>53000</td>\n",
              "      <td>0.433962</td>\n",
              "      <td>5</td>\n",
              "      <td>1</td>\n",
              "      <td>23000</td>\n",
              "      <td>low_risk</td>\n",
              "    </tr>\n",
              "  </tbody>\n",
              "</table>\n",
              "</div>\n",
              "      <button class=\"colab-df-convert\" onclick=\"convertToInteractive('df-8bf2f3ae-7d95-48cc-bfa6-537f66e46ca3')\"\n",
              "              title=\"Convert this dataframe to an interactive table.\"\n",
              "              style=\"display:none;\">\n",
              "        \n",
              "  <svg xmlns=\"http://www.w3.org/2000/svg\" height=\"24px\"viewBox=\"0 0 24 24\"\n",
              "       width=\"24px\">\n",
              "    <path d=\"M0 0h24v24H0V0z\" fill=\"none\"/>\n",
              "    <path d=\"M18.56 5.44l.94 2.06.94-2.06 2.06-.94-2.06-.94-.94-2.06-.94 2.06-2.06.94zm-11 1L8.5 8.5l.94-2.06 2.06-.94-2.06-.94L8.5 2.5l-.94 2.06-2.06.94zm10 10l.94 2.06.94-2.06 2.06-.94-2.06-.94-.94-2.06-.94 2.06-2.06.94z\"/><path d=\"M17.41 7.96l-1.37-1.37c-.4-.4-.92-.59-1.43-.59-.52 0-1.04.2-1.43.59L10.3 9.45l-7.72 7.72c-.78.78-.78 2.05 0 2.83L4 21.41c.39.39.9.59 1.41.59.51 0 1.02-.2 1.41-.59l7.78-7.78 2.81-2.81c.8-.78.8-2.07 0-2.86zM5.41 20L4 18.59l7.72-7.72 1.47 1.35L5.41 20z\"/>\n",
              "  </svg>\n",
              "      </button>\n",
              "      \n",
              "  <style>\n",
              "    .colab-df-container {\n",
              "      display:flex;\n",
              "      flex-wrap:wrap;\n",
              "      gap: 12px;\n",
              "    }\n",
              "\n",
              "    .colab-df-convert {\n",
              "      background-color: #E8F0FE;\n",
              "      border: none;\n",
              "      border-radius: 50%;\n",
              "      cursor: pointer;\n",
              "      display: none;\n",
              "      fill: #1967D2;\n",
              "      height: 32px;\n",
              "      padding: 0 0 0 0;\n",
              "      width: 32px;\n",
              "    }\n",
              "\n",
              "    .colab-df-convert:hover {\n",
              "      background-color: #E2EBFA;\n",
              "      box-shadow: 0px 1px 2px rgba(60, 64, 67, 0.3), 0px 1px 3px 1px rgba(60, 64, 67, 0.15);\n",
              "      fill: #174EA6;\n",
              "    }\n",
              "\n",
              "    [theme=dark] .colab-df-convert {\n",
              "      background-color: #3B4455;\n",
              "      fill: #D2E3FC;\n",
              "    }\n",
              "\n",
              "    [theme=dark] .colab-df-convert:hover {\n",
              "      background-color: #434B5C;\n",
              "      box-shadow: 0px 1px 3px 1px rgba(0, 0, 0, 0.15);\n",
              "      filter: drop-shadow(0px 1px 2px rgba(0, 0, 0, 0.3));\n",
              "      fill: #FFFFFF;\n",
              "    }\n",
              "  </style>\n",
              "\n",
              "      <script>\n",
              "        const buttonEl =\n",
              "          document.querySelector('#df-8bf2f3ae-7d95-48cc-bfa6-537f66e46ca3 button.colab-df-convert');\n",
              "        buttonEl.style.display =\n",
              "          google.colab.kernel.accessAllowed ? 'block' : 'none';\n",
              "\n",
              "        async function convertToInteractive(key) {\n",
              "          const element = document.querySelector('#df-8bf2f3ae-7d95-48cc-bfa6-537f66e46ca3');\n",
              "          const dataTable =\n",
              "            await google.colab.kernel.invokeFunction('convertToInteractive',\n",
              "                                                     [key], {});\n",
              "          if (!dataTable) return;\n",
              "\n",
              "          const docLinkHtml = 'Like what you see? Visit the ' +\n",
              "            '<a target=\"_blank\" href=https://colab.research.google.com/notebooks/data_table.ipynb>data table notebook</a>'\n",
              "            + ' to learn more about interactive tables.';\n",
              "          element.innerHTML = '';\n",
              "          dataTable['output_type'] = 'display_data';\n",
              "          await google.colab.output.renderOutput(dataTable, element);\n",
              "          const docLink = document.createElement('div');\n",
              "          docLink.innerHTML = docLinkHtml;\n",
              "          element.appendChild(docLink);\n",
              "        }\n",
              "      </script>\n",
              "    </div>\n",
              "  </div>\n",
              "  "
            ],
            "text/plain": [
              "   loan_size  interest_rate homeowner  ...  derogatory_marks  total_debt  loan_status\n",
              "0    10700.0          7.672       own  ...                 1       22800     low_risk\n",
              "1     8400.0          6.692       own  ...                 0       13600     low_risk\n",
              "2     9000.0          6.963      rent  ...                 0       16100     low_risk\n",
              "3    10700.0          7.664       own  ...                 1       22700     low_risk\n",
              "4    10800.0          7.698  mortgage  ...                 1       23000     low_risk\n",
              "\n",
              "[5 rows x 9 columns]"
            ]
          },
          "metadata": {}
        },
        {
          "output_type": "stream",
          "name": "stdout",
          "text": [
            "(77536, 9)\n"
          ]
        }
      ],
      "source": [
        "# Load the data\n",
        "file_path = Path('/content/drive/MyDrive/11/Resources/lending_data.csv')\n",
        "df = pd.read_csv(file_path)\n",
        "display(df.head())\n",
        "print(df.shape)"
      ]
    },
    {
      "cell_type": "code",
      "source": [
        "lis1=[]\n",
        "for i in df.columns:\n",
        "  if(df[i].dtype=='object' and i!='loan_status'):\n",
        "    lis1.append(i)\n",
        "\n",
        "print(lis1)"
      ],
      "metadata": {
        "colab": {
          "base_uri": "https://localhost:8080/"
        },
        "id": "NHMM9XhcCtH6",
        "outputId": "e4718091-4113-4703-b56a-385a5a9ead7c"
      },
      "execution_count": 5,
      "outputs": [
        {
          "output_type": "stream",
          "name": "stdout",
          "text": [
            "['homeowner']\n"
          ]
        }
      ]
    },
    {
      "cell_type": "markdown",
      "metadata": {
        "id": "PTsA2RkX7JbD"
      },
      "source": [
        "# Split the Data into Training and Testing"
      ]
    },
    {
      "cell_type": "code",
      "execution_count": 6,
      "metadata": {
        "id": "n7tubyng7JbD"
      },
      "outputs": [],
      "source": [
        "# Create our features\n",
        "X = df.drop(columns=\"loan_status\") # YOUR CODE HERE\n",
        "X = pd.get_dummies(X,columns=lis1)\n",
        "\n",
        "# Create our target\n",
        "y = df['loan_status'].to_frame()"
      ]
    },
    {
      "cell_type": "code",
      "execution_count": 7,
      "metadata": {
        "colab": {
          "base_uri": "https://localhost:8080/",
          "height": 363
        },
        "id": "MZeBr5G17JbE",
        "outputId": "f491312c-e918-4ccd-ad05-a7bc4c2fcdbb"
      },
      "outputs": [
        {
          "output_type": "execute_result",
          "data": {
            "text/html": [
              "\n",
              "  <div id=\"df-4268d1ec-2728-4417-be43-8968b018ae20\">\n",
              "    <div class=\"colab-df-container\">\n",
              "      <div>\n",
              "<style scoped>\n",
              "    .dataframe tbody tr th:only-of-type {\n",
              "        vertical-align: middle;\n",
              "    }\n",
              "\n",
              "    .dataframe tbody tr th {\n",
              "        vertical-align: top;\n",
              "    }\n",
              "\n",
              "    .dataframe thead th {\n",
              "        text-align: right;\n",
              "    }\n",
              "</style>\n",
              "<table border=\"1\" class=\"dataframe\">\n",
              "  <thead>\n",
              "    <tr style=\"text-align: right;\">\n",
              "      <th></th>\n",
              "      <th>count</th>\n",
              "      <th>mean</th>\n",
              "      <th>std</th>\n",
              "      <th>min</th>\n",
              "      <th>25%</th>\n",
              "      <th>50%</th>\n",
              "      <th>75%</th>\n",
              "      <th>max</th>\n",
              "    </tr>\n",
              "  </thead>\n",
              "  <tbody>\n",
              "    <tr>\n",
              "      <th>loan_size</th>\n",
              "      <td>77536.0</td>\n",
              "      <td>9805.562577</td>\n",
              "      <td>2093.223153</td>\n",
              "      <td>5000.00</td>\n",
              "      <td>8700.000000</td>\n",
              "      <td>9500.000000</td>\n",
              "      <td>10400.000000</td>\n",
              "      <td>23800.000000</td>\n",
              "    </tr>\n",
              "    <tr>\n",
              "      <th>interest_rate</th>\n",
              "      <td>77536.0</td>\n",
              "      <td>7.292333</td>\n",
              "      <td>0.889495</td>\n",
              "      <td>5.25</td>\n",
              "      <td>6.825000</td>\n",
              "      <td>7.172000</td>\n",
              "      <td>7.528000</td>\n",
              "      <td>13.235000</td>\n",
              "    </tr>\n",
              "    <tr>\n",
              "      <th>borrower_income</th>\n",
              "      <td>77536.0</td>\n",
              "      <td>49221.949804</td>\n",
              "      <td>8371.635077</td>\n",
              "      <td>30000.00</td>\n",
              "      <td>44800.000000</td>\n",
              "      <td>48100.000000</td>\n",
              "      <td>51400.000000</td>\n",
              "      <td>105200.000000</td>\n",
              "    </tr>\n",
              "    <tr>\n",
              "      <th>debt_to_income</th>\n",
              "      <td>77536.0</td>\n",
              "      <td>0.377318</td>\n",
              "      <td>0.081519</td>\n",
              "      <td>0.00</td>\n",
              "      <td>0.330357</td>\n",
              "      <td>0.376299</td>\n",
              "      <td>0.416342</td>\n",
              "      <td>0.714829</td>\n",
              "    </tr>\n",
              "    <tr>\n",
              "      <th>num_of_accounts</th>\n",
              "      <td>77536.0</td>\n",
              "      <td>3.826610</td>\n",
              "      <td>1.904426</td>\n",
              "      <td>0.00</td>\n",
              "      <td>3.000000</td>\n",
              "      <td>4.000000</td>\n",
              "      <td>4.000000</td>\n",
              "      <td>16.000000</td>\n",
              "    </tr>\n",
              "    <tr>\n",
              "      <th>derogatory_marks</th>\n",
              "      <td>77536.0</td>\n",
              "      <td>0.392308</td>\n",
              "      <td>0.582086</td>\n",
              "      <td>0.00</td>\n",
              "      <td>0.000000</td>\n",
              "      <td>0.000000</td>\n",
              "      <td>1.000000</td>\n",
              "      <td>3.000000</td>\n",
              "    </tr>\n",
              "    <tr>\n",
              "      <th>total_debt</th>\n",
              "      <td>77536.0</td>\n",
              "      <td>19221.949804</td>\n",
              "      <td>8371.635077</td>\n",
              "      <td>0.00</td>\n",
              "      <td>14800.000000</td>\n",
              "      <td>18100.000000</td>\n",
              "      <td>21400.000000</td>\n",
              "      <td>75200.000000</td>\n",
              "    </tr>\n",
              "    <tr>\n",
              "      <th>homeowner_mortgage</th>\n",
              "      <td>77536.0</td>\n",
              "      <td>0.497472</td>\n",
              "      <td>0.499997</td>\n",
              "      <td>0.00</td>\n",
              "      <td>0.000000</td>\n",
              "      <td>0.000000</td>\n",
              "      <td>1.000000</td>\n",
              "      <td>1.000000</td>\n",
              "    </tr>\n",
              "    <tr>\n",
              "      <th>homeowner_own</th>\n",
              "      <td>77536.0</td>\n",
              "      <td>0.398911</td>\n",
              "      <td>0.489678</td>\n",
              "      <td>0.00</td>\n",
              "      <td>0.000000</td>\n",
              "      <td>0.000000</td>\n",
              "      <td>1.000000</td>\n",
              "      <td>1.000000</td>\n",
              "    </tr>\n",
              "    <tr>\n",
              "      <th>homeowner_rent</th>\n",
              "      <td>77536.0</td>\n",
              "      <td>0.103616</td>\n",
              "      <td>0.304764</td>\n",
              "      <td>0.00</td>\n",
              "      <td>0.000000</td>\n",
              "      <td>0.000000</td>\n",
              "      <td>0.000000</td>\n",
              "      <td>1.000000</td>\n",
              "    </tr>\n",
              "  </tbody>\n",
              "</table>\n",
              "</div>\n",
              "      <button class=\"colab-df-convert\" onclick=\"convertToInteractive('df-4268d1ec-2728-4417-be43-8968b018ae20')\"\n",
              "              title=\"Convert this dataframe to an interactive table.\"\n",
              "              style=\"display:none;\">\n",
              "        \n",
              "  <svg xmlns=\"http://www.w3.org/2000/svg\" height=\"24px\"viewBox=\"0 0 24 24\"\n",
              "       width=\"24px\">\n",
              "    <path d=\"M0 0h24v24H0V0z\" fill=\"none\"/>\n",
              "    <path d=\"M18.56 5.44l.94 2.06.94-2.06 2.06-.94-2.06-.94-.94-2.06-.94 2.06-2.06.94zm-11 1L8.5 8.5l.94-2.06 2.06-.94-2.06-.94L8.5 2.5l-.94 2.06-2.06.94zm10 10l.94 2.06.94-2.06 2.06-.94-2.06-.94-.94-2.06-.94 2.06-2.06.94z\"/><path d=\"M17.41 7.96l-1.37-1.37c-.4-.4-.92-.59-1.43-.59-.52 0-1.04.2-1.43.59L10.3 9.45l-7.72 7.72c-.78.78-.78 2.05 0 2.83L4 21.41c.39.39.9.59 1.41.59.51 0 1.02-.2 1.41-.59l7.78-7.78 2.81-2.81c.8-.78.8-2.07 0-2.86zM5.41 20L4 18.59l7.72-7.72 1.47 1.35L5.41 20z\"/>\n",
              "  </svg>\n",
              "      </button>\n",
              "      \n",
              "  <style>\n",
              "    .colab-df-container {\n",
              "      display:flex;\n",
              "      flex-wrap:wrap;\n",
              "      gap: 12px;\n",
              "    }\n",
              "\n",
              "    .colab-df-convert {\n",
              "      background-color: #E8F0FE;\n",
              "      border: none;\n",
              "      border-radius: 50%;\n",
              "      cursor: pointer;\n",
              "      display: none;\n",
              "      fill: #1967D2;\n",
              "      height: 32px;\n",
              "      padding: 0 0 0 0;\n",
              "      width: 32px;\n",
              "    }\n",
              "\n",
              "    .colab-df-convert:hover {\n",
              "      background-color: #E2EBFA;\n",
              "      box-shadow: 0px 1px 2px rgba(60, 64, 67, 0.3), 0px 1px 3px 1px rgba(60, 64, 67, 0.15);\n",
              "      fill: #174EA6;\n",
              "    }\n",
              "\n",
              "    [theme=dark] .colab-df-convert {\n",
              "      background-color: #3B4455;\n",
              "      fill: #D2E3FC;\n",
              "    }\n",
              "\n",
              "    [theme=dark] .colab-df-convert:hover {\n",
              "      background-color: #434B5C;\n",
              "      box-shadow: 0px 1px 3px 1px rgba(0, 0, 0, 0.15);\n",
              "      filter: drop-shadow(0px 1px 2px rgba(0, 0, 0, 0.3));\n",
              "      fill: #FFFFFF;\n",
              "    }\n",
              "  </style>\n",
              "\n",
              "      <script>\n",
              "        const buttonEl =\n",
              "          document.querySelector('#df-4268d1ec-2728-4417-be43-8968b018ae20 button.colab-df-convert');\n",
              "        buttonEl.style.display =\n",
              "          google.colab.kernel.accessAllowed ? 'block' : 'none';\n",
              "\n",
              "        async function convertToInteractive(key) {\n",
              "          const element = document.querySelector('#df-4268d1ec-2728-4417-be43-8968b018ae20');\n",
              "          const dataTable =\n",
              "            await google.colab.kernel.invokeFunction('convertToInteractive',\n",
              "                                                     [key], {});\n",
              "          if (!dataTable) return;\n",
              "\n",
              "          const docLinkHtml = 'Like what you see? Visit the ' +\n",
              "            '<a target=\"_blank\" href=https://colab.research.google.com/notebooks/data_table.ipynb>data table notebook</a>'\n",
              "            + ' to learn more about interactive tables.';\n",
              "          element.innerHTML = '';\n",
              "          dataTable['output_type'] = 'display_data';\n",
              "          await google.colab.output.renderOutput(dataTable, element);\n",
              "          const docLink = document.createElement('div');\n",
              "          docLink.innerHTML = docLinkHtml;\n",
              "          element.appendChild(docLink);\n",
              "        }\n",
              "      </script>\n",
              "    </div>\n",
              "  </div>\n",
              "  "
            ],
            "text/plain": [
              "                      count          mean  ...           75%            max\n",
              "loan_size           77536.0   9805.562577  ...  10400.000000   23800.000000\n",
              "interest_rate       77536.0      7.292333  ...      7.528000      13.235000\n",
              "borrower_income     77536.0  49221.949804  ...  51400.000000  105200.000000\n",
              "debt_to_income      77536.0      0.377318  ...      0.416342       0.714829\n",
              "num_of_accounts     77536.0      3.826610  ...      4.000000      16.000000\n",
              "derogatory_marks    77536.0      0.392308  ...      1.000000       3.000000\n",
              "total_debt          77536.0  19221.949804  ...  21400.000000   75200.000000\n",
              "homeowner_mortgage  77536.0      0.497472  ...      1.000000       1.000000\n",
              "homeowner_own       77536.0      0.398911  ...      1.000000       1.000000\n",
              "homeowner_rent      77536.0      0.103616  ...      0.000000       1.000000\n",
              "\n",
              "[10 rows x 8 columns]"
            ]
          },
          "metadata": {},
          "execution_count": 7
        }
      ],
      "source": [
        "X.describe().T"
      ]
    },
    {
      "cell_type": "code",
      "execution_count": 8,
      "metadata": {
        "colab": {
          "base_uri": "https://localhost:8080/"
        },
        "id": "QXSbndXn7JbF",
        "outputId": "9269c22d-b57b-4f95-9376-8ee5c2892b81"
      },
      "outputs": [
        {
          "output_type": "execute_result",
          "data": {
            "text/plain": [
              "low_risk     75036\n",
              "high_risk     2500\n",
              "Name: loan_status, dtype: int64"
            ]
          },
          "metadata": {},
          "execution_count": 8
        }
      ],
      "source": [
        "# Check the balance of our target values\n",
        "y['loan_status'].value_counts()"
      ]
    },
    {
      "cell_type": "code",
      "execution_count": 9,
      "metadata": {
        "id": "G1XJS3Xj7JbG"
      },
      "outputs": [],
      "source": [
        "# Create X_train, X_test, y_train, y_test\n",
        "# YOUR CODE HERE\n",
        "X_train, X_test, y_train, y_test = train_test_split(X, y, random_state=1,test_size=0.33)"
      ]
    },
    {
      "cell_type": "markdown",
      "metadata": {
        "id": "dppeIq1L7JbG"
      },
      "source": [
        "## Data Pre-Processing\n",
        "\n",
        "Scale the training and testing data using the `StandardScaler` from `sklearn`. Remember that when scaling the data, you only scale the features data (`X_train` and `X_testing`)."
      ]
    },
    {
      "cell_type": "code",
      "execution_count": 10,
      "metadata": {
        "id": "mP8UJqXE7JbH"
      },
      "outputs": [],
      "source": [
        "from pandas.core.common import random_state\n",
        "# Create the StandardScaler instance\n",
        "from sklearn.preprocessing import StandardScaler\n",
        "# YOUR CODE HERE\n",
        "scalar = StandardScaler()"
      ]
    },
    {
      "cell_type": "code",
      "execution_count": 11,
      "metadata": {
        "colab": {
          "base_uri": "https://localhost:8080/"
        },
        "id": "Db4aIRtK7JbH",
        "outputId": "d1ce40db-444d-46f5-dd15-97e335b04a9f"
      },
      "outputs": [
        {
          "output_type": "execute_result",
          "data": {
            "text/plain": [
              "StandardScaler()"
            ]
          },
          "metadata": {},
          "execution_count": 11
        }
      ],
      "source": [
        "# Fit the Standard Scaler with the training data\n",
        "# When fitting scaling functions, only train on the training dataset\n",
        "# YOUR CODE HERE\n",
        "scalar.fit(X_train)"
      ]
    },
    {
      "cell_type": "code",
      "execution_count": 12,
      "metadata": {
        "id": "xpq4et9f7JbI"
      },
      "outputs": [],
      "source": [
        "# Scale the training and testing data\n",
        "# YOUR CODE HERE\n",
        "scaled_X_train = scalar.transform(X_train)\n",
        "scaled_X_test = scalar.transform(X_test)"
      ]
    },
    {
      "cell_type": "markdown",
      "metadata": {
        "id": "nqsu9lBu7JbJ"
      },
      "source": [
        "# Simple Logistic Regression"
      ]
    },
    {
      "cell_type": "code",
      "execution_count": 13,
      "metadata": {
        "colab": {
          "base_uri": "https://localhost:8080/"
        },
        "id": "jx-AefaA7JbJ",
        "outputId": "9d37587c-e1f4-4692-a005-bf54356812ba"
      },
      "outputs": [
        {
          "output_type": "execute_result",
          "data": {
            "text/plain": [
              "LogisticRegression(random_state=1)"
            ]
          },
          "metadata": {},
          "execution_count": 13
        }
      ],
      "source": [
        "from sklearn.linear_model import LogisticRegression\n",
        "model = LogisticRegression(solver='lbfgs', random_state=1)\n",
        "model.fit(X_train, y_train)"
      ]
    },
    {
      "cell_type": "code",
      "execution_count": 14,
      "metadata": {
        "colab": {
          "base_uri": "https://localhost:8080/"
        },
        "id": "MMJuWHb27JbJ",
        "outputId": "18f1e5d7-3001-42d8-dccd-91b04f224f94"
      },
      "outputs": [
        {
          "output_type": "execute_result",
          "data": {
            "text/plain": [
              "0.948898931463884"
            ]
          },
          "metadata": {},
          "execution_count": 14
        }
      ],
      "source": [
        "# Calculated the balanced accuracy score\n",
        "from sklearn.metrics import balanced_accuracy_score\n",
        "y_pred = model.predict(X_test)\n",
        "balanced_accuracy_score(y_test, y_pred)"
      ]
    },
    {
      "cell_type": "code",
      "execution_count": 15,
      "metadata": {
        "colab": {
          "base_uri": "https://localhost:8080/"
        },
        "id": "dTWbwEoE7JbK",
        "outputId": "70c7cca8-ed17-41a9-a681-f7566e40ac9e"
      },
      "outputs": [
        {
          "output_type": "execute_result",
          "data": {
            "text/plain": [
              "array([[  761,    82],\n",
              "       [  122, 24622]])"
            ]
          },
          "metadata": {},
          "execution_count": 15
        }
      ],
      "source": [
        "# Display the confusion matrix\n",
        "from sklearn.metrics import confusion_matrix\n",
        "confusion_matrix(y_test, y_pred)"
      ]
    },
    {
      "cell_type": "code",
      "execution_count": 16,
      "metadata": {
        "colab": {
          "base_uri": "https://localhost:8080/"
        },
        "id": "nMHAFMq47JbK",
        "outputId": "f6cb1683-4181-469b-9af9-b71df1b4cd9c"
      },
      "outputs": [
        {
          "output_type": "stream",
          "name": "stdout",
          "text": [
            "                   pre       rec       spe        f1       geo       iba       sup\n",
            "\n",
            "  high_risk       0.86      0.90      1.00      0.88      0.95      0.89       843\n",
            "   low_risk       1.00      1.00      0.90      1.00      0.95      0.91     24744\n",
            "\n",
            "avg / total       0.99      0.99      0.91      0.99      0.95      0.91     25587\n",
            "\n"
          ]
        }
      ],
      "source": [
        "# Print the imbalanced classification report\n",
        "from imblearn.metrics import classification_report_imbalanced\n",
        "print(classification_report_imbalanced(y_test, y_pred))"
      ]
    },
    {
      "cell_type": "markdown",
      "metadata": {
        "id": "oG9IS7_R7JbL"
      },
      "source": [
        "# Oversampling\n",
        "\n",
        "In this section, you will compare two oversampling algorithms to determine which algorithm results in the best performance. You will oversample the data using the naive random oversampling algorithm and the SMOTE algorithm. For each algorithm, be sure to complete the folliowing steps:\n",
        "\n",
        "1. View the count of the target classes using `Counter` from the collections library. \n",
        "3. Use the resampled data to train a logistic regression model.\n",
        "3. Calculate the balanced accuracy score from sklearn.metrics.\n",
        "4. Print the confusion matrix from sklearn.metrics.\n",
        "5. Generate a classication report using the `imbalanced_classification_report` from imbalanced-learn.\n",
        "\n",
        "Note: Use a random state of 1 for each sampling algorithm to ensure consistency between tests"
      ]
    },
    {
      "cell_type": "markdown",
      "metadata": {
        "id": "-0-SPW347JbL"
      },
      "source": [
        "### Naive Random Oversampling"
      ]
    },
    {
      "cell_type": "code",
      "execution_count": 17,
      "metadata": {
        "colab": {
          "base_uri": "https://localhost:8080/"
        },
        "id": "bA-ORhr_7JbL",
        "outputId": "f426b51e-459c-4cb2-de24-13bcb4f721e5"
      },
      "outputs": [
        {
          "output_type": "stream",
          "name": "stdout",
          "text": [
            "Counter({'loan_status': 1})\n",
            "loan_status\n",
            "high_risk      50292\n",
            "low_risk       50292\n",
            "dtype: int64\n"
          ]
        }
      ],
      "source": [
        "from imblearn.over_sampling import RandomOverSampler\n",
        "# Resample the training data with the RandomOversampler\n",
        "# YOUR CODE HERE\n",
        "ros = RandomOverSampler(random_state=1)\n",
        "X_resampled, y_resampled = ros.fit_resample(X_train, y_train)\n",
        "# View the count of target classes with Counter\n",
        "# YOUR CODE HERE\n",
        "print(Counter(y_resampled))\n",
        "print(y_resampled.value_counts())\n"
      ]
    },
    {
      "cell_type": "code",
      "execution_count": 18,
      "metadata": {
        "id": "MMjOaQEl7JbM"
      },
      "outputs": [],
      "source": [
        "# Train the Logistic Regression model using the resampled data\n",
        "# YOUR CODE HERE\n",
        "model = LogisticRegression(random_state=1)\n",
        "model.fit(X_resampled, y_resampled)\n",
        "y_pred = model.predict(X_test)"
      ]
    },
    {
      "cell_type": "code",
      "execution_count": 19,
      "metadata": {
        "colab": {
          "base_uri": "https://localhost:8080/"
        },
        "id": "FbQtEqnQ7JbM",
        "outputId": "0e909da7-e659-47da-8d99-89a19f5e5be8"
      },
      "outputs": [
        {
          "output_type": "stream",
          "name": "stdout",
          "text": [
            "0.9947985521203314\n"
          ]
        }
      ],
      "source": [
        "# Calculated the balanced accuracy score\n",
        "# YOUR CODE HERE\n",
        "print(balanced_accuracy_score(y_test, y_pred))"
      ]
    },
    {
      "cell_type": "code",
      "execution_count": 20,
      "metadata": {
        "colab": {
          "base_uri": "https://localhost:8080/"
        },
        "id": "g9vfTmPZ7JbM",
        "outputId": "b88484fb-5d3c-441b-fca1-9a5b78cfc9e0"
      },
      "outputs": [
        {
          "output_type": "execute_result",
          "data": {
            "text/plain": [
              "array([[  839,     4],\n",
              "       [  140, 24604]])"
            ]
          },
          "metadata": {},
          "execution_count": 20
        }
      ],
      "source": [
        "# Display the confusion matrix\n",
        "# YOUR CODE HERE\n",
        "from sklearn.metrics import confusion_matrix\n",
        "confusion_matrix(y_test, y_pred)"
      ]
    },
    {
      "cell_type": "code",
      "execution_count": 21,
      "metadata": {
        "colab": {
          "base_uri": "https://localhost:8080/"
        },
        "id": "aypdiQmz7JbN",
        "outputId": "c2cea61e-b94e-4120-a454-729956a0fa05"
      },
      "outputs": [
        {
          "output_type": "stream",
          "name": "stdout",
          "text": [
            "                   pre       rec       spe        f1       geo       iba       sup\n",
            "\n",
            "  high_risk       0.86      1.00      0.99      0.92      0.99      0.99       843\n",
            "   low_risk       1.00      0.99      1.00      1.00      0.99      0.99     24744\n",
            "\n",
            "avg / total       1.00      0.99      1.00      0.99      0.99      0.99     25587\n",
            "\n"
          ]
        }
      ],
      "source": [
        "# Print the imbalanced classification report\n",
        "# YOUR CODE HERE\n",
        "from imblearn.metrics import classification_report_imbalanced\n",
        "\n",
        "print(classification_report_imbalanced(y_test, y_pred))"
      ]
    },
    {
      "cell_type": "markdown",
      "metadata": {
        "id": "g1YQaHrW7JbN"
      },
      "source": [
        "### SMOTE Oversampling"
      ]
    },
    {
      "cell_type": "code",
      "execution_count": 22,
      "metadata": {
        "colab": {
          "base_uri": "https://localhost:8080/"
        },
        "id": "BUPbWXpC7JbN",
        "outputId": "a5dbf74d-9710-46cf-b734-32030103eeb7"
      },
      "outputs": [
        {
          "output_type": "stream",
          "name": "stdout",
          "text": [
            "Counter({'loan_status': 1})\n",
            "loan_status\n",
            "high_risk      50292\n",
            "low_risk       50292\n",
            "dtype: int64\n"
          ]
        }
      ],
      "source": [
        "# Resample the training data with SMOTE\n",
        "# YOUR CODE HERE\n",
        "from imblearn.over_sampling import SMOTE\n",
        "X_resampled, y_resampled = SMOTE(random_state=1).fit_resample(X_train, y_train)\n",
        "# View the count of target classes with Counter\n",
        "# YOUR CODE HERE\n",
        "print(Counter(y_resampled))\n",
        "print(y_resampled.value_counts())"
      ]
    },
    {
      "cell_type": "code",
      "execution_count": 23,
      "metadata": {
        "id": "gx5n2NF67JbN"
      },
      "outputs": [],
      "source": [
        "# Train the Logistic Regression model using the resampled data\n",
        "# YOUR CODE HERE\n",
        "model = LogisticRegression(random_state=1)\n",
        "model.fit(X_resampled, y_resampled)\n",
        "y_pred = model.predict(X_test)"
      ]
    },
    {
      "cell_type": "code",
      "execution_count": 24,
      "metadata": {
        "colab": {
          "base_uri": "https://localhost:8080/"
        },
        "id": "OLsxftVv7JbN",
        "outputId": "0ae69c4b-f06b-450e-fe97-a35e05777b7c"
      },
      "outputs": [
        {
          "output_type": "execute_result",
          "data": {
            "text/plain": [
              "0.9947985521203314"
            ]
          },
          "metadata": {},
          "execution_count": 24
        }
      ],
      "source": [
        "# Calculated the balanced accuracy score\n",
        "# YOUR CODE HERE\n",
        "balanced_accuracy_score(y_test, y_pred)"
      ]
    },
    {
      "cell_type": "code",
      "execution_count": 25,
      "metadata": {
        "colab": {
          "base_uri": "https://localhost:8080/"
        },
        "id": "AEzKpksD7JbO",
        "outputId": "181703f4-2894-437d-9de1-2ef608566ccb"
      },
      "outputs": [
        {
          "output_type": "execute_result",
          "data": {
            "text/plain": [
              "array([[  839,     4],\n",
              "       [  140, 24604]])"
            ]
          },
          "metadata": {},
          "execution_count": 25
        }
      ],
      "source": [
        "# Display the confusion matrix\n",
        "# YOUR CODE HERE\n",
        "from sklearn.metrics import confusion_matrix\n",
        "confusion_matrix(y_test, y_pred)"
      ]
    },
    {
      "cell_type": "code",
      "execution_count": 26,
      "metadata": {
        "colab": {
          "base_uri": "https://localhost:8080/"
        },
        "id": "CkhHLB3q7JbO",
        "outputId": "3f42ad60-bb2d-4736-bae2-fe757765b9fe"
      },
      "outputs": [
        {
          "output_type": "stream",
          "name": "stdout",
          "text": [
            "                   pre       rec       spe        f1       geo       iba       sup\n",
            "\n",
            "  high_risk       0.86      1.00      0.99      0.92      0.99      0.99       843\n",
            "   low_risk       1.00      0.99      1.00      1.00      0.99      0.99     24744\n",
            "\n",
            "avg / total       1.00      0.99      1.00      0.99      0.99      0.99     25587\n",
            "\n"
          ]
        }
      ],
      "source": [
        "# Print the imbalanced classification report\n",
        "# YOUR CODE HERE\n",
        "print(classification_report_imbalanced(y_test, y_pred))"
      ]
    },
    {
      "cell_type": "markdown",
      "metadata": {
        "id": "ZEg97_YK7JbO"
      },
      "source": [
        "# Undersampling\n",
        "\n",
        "In this section, you will test an undersampling algorithm to determine which algorithm results in the best performance compared to the oversampling algorithms above. You will undersample the data using the Cluster Centroids algorithm and complete the folliowing steps:\n",
        "\n",
        "1. View the count of the target classes using `Counter` from the collections library. \n",
        "3. Use the resampled data to train a logistic regression model.\n",
        "3. Calculate the balanced accuracy score from sklearn.metrics.\n",
        "4. Display the confusion matrix from sklearn.metrics.\n",
        "5. Generate a classication report using the `imbalanced_classification_report` from imbalanced-learn.\n",
        "\n",
        "Note: Use a random state of 1 for each sampling algorithm to ensure consistency between tests"
      ]
    },
    {
      "cell_type": "code",
      "execution_count": 27,
      "metadata": {
        "colab": {
          "base_uri": "https://localhost:8080/"
        },
        "id": "STbw5jqN7JbO",
        "outputId": "38fc7fc7-91b4-453e-f9c3-932e3333fc46"
      },
      "outputs": [
        {
          "output_type": "stream",
          "name": "stdout",
          "text": [
            "Counter({'loan_status': 1})\n",
            "loan_status\n",
            "high_risk      1657\n",
            "low_risk       1657\n",
            "dtype: int64\n"
          ]
        }
      ],
      "source": [
        "# Resample the data using the ClusterCentroids resampler\n",
        "# YOUR CODE HERE\n",
        "from imblearn.under_sampling import ClusterCentroids\n",
        "\n",
        "cc = ClusterCentroids(random_state=1)\n",
        "X_resampled, y_resampled = cc.fit_resample(X_train, y_train)\n",
        "\n",
        "\n",
        "# View the count of target classes with Counter\n",
        "# YOUR CODE HERE\n",
        "print(Counter(y_resampled))\n",
        "print(y_resampled.value_counts())\n"
      ]
    },
    {
      "cell_type": "code",
      "execution_count": 28,
      "metadata": {
        "id": "2BHdDMe97JbP"
      },
      "outputs": [],
      "source": [
        "# Train the Logistic Regression model using the resampled data\n",
        "# YOUR CODE HERE\n",
        "model = LogisticRegression(random_state=1)\n",
        "model.fit(X_resampled, y_resampled)\n",
        "y_pred = model.predict(X_test)"
      ]
    },
    {
      "cell_type": "code",
      "execution_count": 29,
      "metadata": {
        "colab": {
          "base_uri": "https://localhost:8080/"
        },
        "id": "LhgsbesB7JbP",
        "outputId": "1ce04fd6-56a7-447a-ccb9-8f55a671c96a"
      },
      "outputs": [
        {
          "output_type": "stream",
          "name": "stdout",
          "text": [
            "0.9860027895615515\n"
          ]
        }
      ],
      "source": [
        "# Calculate the balanced accuracy score\n",
        "# YOUR CODE HERE\n",
        "print(balanced_accuracy_score(y_test, y_pred))"
      ]
    },
    {
      "cell_type": "code",
      "execution_count": 30,
      "metadata": {
        "colab": {
          "base_uri": "https://localhost:8080/"
        },
        "id": "y20vcy787JbP",
        "outputId": "f31724b6-3931-4d50-c250-bf480e9ed1b9"
      },
      "outputs": [
        {
          "output_type": "execute_result",
          "data": {
            "text/plain": [
              "array([[  824,    19],\n",
              "       [  135, 24609]])"
            ]
          },
          "metadata": {},
          "execution_count": 30
        }
      ],
      "source": [
        "# Display the confusion matrix\n",
        "# YOUR CODE HERE\n",
        "confusion_matrix(y_test, y_pred)"
      ]
    },
    {
      "cell_type": "code",
      "execution_count": 31,
      "metadata": {
        "colab": {
          "base_uri": "https://localhost:8080/"
        },
        "id": "rhMYqKZN7JbP",
        "outputId": "326618fc-e2bc-4a48-b50f-6e4b03be1756"
      },
      "outputs": [
        {
          "output_type": "stream",
          "name": "stdout",
          "text": [
            "                   pre       rec       spe        f1       geo       iba       sup\n",
            "\n",
            "  high_risk       0.86      0.98      0.99      0.91      0.99      0.97       843\n",
            "   low_risk       1.00      0.99      0.98      1.00      0.99      0.97     24744\n",
            "\n",
            "avg / total       0.99      0.99      0.98      0.99      0.99      0.97     25587\n",
            "\n"
          ]
        }
      ],
      "source": [
        "# Print the imbalanced classification report\n",
        "# YOUR CODE HERE\n",
        "print(classification_report_imbalanced(y_test, y_pred))"
      ]
    },
    {
      "cell_type": "markdown",
      "metadata": {
        "id": "H1NsEHgi7JbQ"
      },
      "source": [
        "# Combination (Over and Under) Sampling\n",
        "\n",
        "In this section, you will test a combination over- and under-sampling algorithm to determine if the algorithm results in the best performance compared to the other sampling algorithms above. You will resample the data using the SMOTEENN algorithm and complete the folliowing steps:\n",
        "\n",
        "1. View the count of the target classes using `Counter` from the collections library. \n",
        "3. Use the resampled data to train a logistic regression model.\n",
        "3. Calculate the balanced accuracy score from sklearn.metrics.\n",
        "4. Display the confusion matrix from sklearn.metrics.\n",
        "5. Generate a classication report using the `imbalanced_classification_report` from imbalanced-learn.\n",
        "\n",
        "Note: Use a random state of 1 for each sampling algorithm to ensure consistency between tests"
      ]
    },
    {
      "cell_type": "code",
      "execution_count": 32,
      "metadata": {
        "colab": {
          "base_uri": "https://localhost:8080/"
        },
        "id": "uSMW6s0P7JbQ",
        "outputId": "d7dbfc76-d82f-4283-8d57-90f4a6c44c6f"
      },
      "outputs": [
        {
          "output_type": "stream",
          "name": "stdout",
          "text": [
            "Counter({'loan_status': 1})\n",
            "loan_status\n",
            "low_risk       49975\n",
            "high_risk      49570\n",
            "dtype: int64\n"
          ]
        }
      ],
      "source": [
        "from imblearn.combine import SMOTEENN\n",
        "# Resample the training data with SMOTEENN\n",
        "# YOUR CODE HERE\n",
        "sm = SMOTEENN(random_state=1)\n",
        "X_resampled, y_resampled = sm.fit_resample(X_train, y_train)\n",
        "\n",
        "# View the count of target classes with Counter\n",
        "# YOUR CODE HERE\n",
        "print(Counter(y_resampled))\n",
        "print(y_resampled.value_counts())\n"
      ]
    },
    {
      "cell_type": "code",
      "execution_count": 33,
      "metadata": {
        "id": "b6mysW4g7JbQ"
      },
      "outputs": [],
      "source": [
        "# Train the Logistic Regression model using the resampled data\n",
        "# YOUR CODE HERE\n",
        "model = LogisticRegression(random_state=1)\n",
        "model.fit(X_resampled, y_resampled)\n",
        "y_pred = model.predict(X_test)"
      ]
    },
    {
      "cell_type": "code",
      "execution_count": 34,
      "metadata": {
        "colab": {
          "base_uri": "https://localhost:8080/"
        },
        "id": "lRYwSlgO7JbQ",
        "outputId": "54dcd94a-698e-4c4e-f9d5-d94baf9df70b"
      },
      "outputs": [
        {
          "output_type": "execute_result",
          "data": {
            "text/plain": [
              "0.9945964829318412"
            ]
          },
          "metadata": {},
          "execution_count": 34
        }
      ],
      "source": [
        "# Calculate the balanced accuracy score\n",
        "# YOUR CODE HERE\n",
        "balanced_accuracy_score(y_test, y_pred)"
      ]
    },
    {
      "cell_type": "code",
      "execution_count": 35,
      "metadata": {
        "colab": {
          "base_uri": "https://localhost:8080/"
        },
        "id": "g4bQNRwq7JbR",
        "outputId": "0e830095-8722-4c21-97c1-03e2e5adf958"
      },
      "outputs": [
        {
          "output_type": "execute_result",
          "data": {
            "text/plain": [
              "array([[  839,     4],\n",
              "       [  150, 24594]])"
            ]
          },
          "metadata": {},
          "execution_count": 35
        }
      ],
      "source": [
        "# Display the confusion matrix\n",
        "# YOUR CODE HERE\n",
        "confusion_matrix(y_test, y_pred)"
      ]
    },
    {
      "cell_type": "code",
      "execution_count": 36,
      "metadata": {
        "colab": {
          "base_uri": "https://localhost:8080/"
        },
        "id": "canIlbys7JbR",
        "outputId": "a65204a9-88ff-4cd8-9a46-5f37b233e287"
      },
      "outputs": [
        {
          "output_type": "stream",
          "name": "stdout",
          "text": [
            "                   pre       rec       spe        f1       geo       iba       sup\n",
            "\n",
            "  high_risk       0.85      1.00      0.99      0.92      0.99      0.99       843\n",
            "   low_risk       1.00      0.99      1.00      1.00      0.99      0.99     24744\n",
            "\n",
            "avg / total       0.99      0.99      1.00      0.99      0.99      0.99     25587\n",
            "\n"
          ]
        }
      ],
      "source": [
        "# Print the imbalanced classification report\n",
        "# YOUR CODE HERE\n",
        "print(classification_report_imbalanced(y_test, y_pred))"
      ]
    },
    {
      "cell_type": "markdown",
      "metadata": {
        "id": "jsI3JYtM7JbR"
      },
      "source": [
        "# Final Questions\n",
        "\n",
        "1. Which model had the best balanced accuracy score?\n",
        "\n",
        "   Combination SMOTE has best accuracy score\n",
        "\n",
        "2. Which model had the best recall score?\n",
        "\n",
        "   Recall score for all the models is same\n",
        "\n",
        "3. Which model had the best geometric mean score?\n",
        "\n",
        "   Geometric mean score for all the models is same \n"
      ]
    },
    {
      "cell_type": "code",
      "execution_count": 36,
      "metadata": {
        "id": "MwOfKjnc7JbR"
      },
      "outputs": [],
      "source": [
        ""
      ]
    }
  ],
  "metadata": {
    "kernelspec": {
      "display_name": "Python 3",
      "language": "python",
      "name": "python3"
    },
    "language_info": {
      "codemirror_mode": {
        "name": "ipython",
        "version": 3
      },
      "file_extension": ".py",
      "mimetype": "text/x-python",
      "name": "python",
      "nbconvert_exporter": "python",
      "pygments_lexer": "ipython3",
      "version": "3.7.7"
    },
    "colab": {
      "name": "credit_risk_resampling.ipynb",
      "provenance": [],
      "collapsed_sections": []
    }
  },
  "nbformat": 4,
  "nbformat_minor": 0
}